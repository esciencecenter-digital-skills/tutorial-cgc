{
 "cells": [
  {
   "cell_type": "markdown",
   "metadata": {},
   "source": [
    "# Co-clustering"
   ]
  },
  {
   "cell_type": "markdown",
   "metadata": {},
   "source": [
    "## Introduction\n",
    "\n",
    "This notebook illustrates how to use [Clustering Geo-data Cubes (CGC)](https://cgc.readthedocs.io) to perform a co-clustering analysis of geo-spatial data. \n",
    "\n",
    "Co-clustering is a technique that allows to overcome some of the limitations of traditional clustering techniques (like k-means), which operate along a single dimension. For spatio-temporal data, these algorithms allow to identify spatial patterns across the full time span of the data, or, vice-versa, temporal patterns for the whole spatial domain considered. With co-clustering, the space and time dimensions can be simultaneously clustered, allowing to create (co-)clusters where individual elements behave similarly in both dimensions. We illustrate how to perform this analysis with CGC using an example phenological data set representing the day of the year of first bloom.\n",
    "\n",
    "Note that in addition to CGC, whose installation instructions can be found [here](https://github.com/phenology/cgc), few other packages are required in order to run this notebook. Please have a look at this tutorial's [installation instructions](https://github.com/escience-academy/tutorial-cgc). "
   ]
  },
  {
   "cell_type": "markdown",
   "metadata": {},
   "source": [
    "## The data\n",
    "\n",
    "The data employed in this tutorial is a subset of the first-bloom spring-index calculated for the conterminous US from 1980 to 2015 at 1 km resolution. The data set has been cropped to an area that is (700 km x 700 km) large, approximately corresponding to the State of Washington, and only the last 15 years have been considered. The data is provided as a set of 15 GeoTIFF files (one per year, labeled accordingly).\n",
    "For more information about the data have a look at the original publication https://doi.org/10.1016/j.agrformet.2018.06.028 - please cite this reference if you use the data!"
   ]
  },
  {
   "cell_type": "markdown",
   "metadata": {},
   "source": [
    "## Imports and general configuration"
   ]
  },
  {
   "cell_type": "code",
   "execution_count": 1,
   "metadata": {},
   "outputs": [
    {
     "name": "stdout",
     "output_type": "stream",
     "text": [
      "CGC version: 0.4.0\n"
     ]
    }
   ],
   "source": [
    "import cgc\n",
    "import logging\n",
    "import matplotlib.pyplot as plt\n",
    "import numpy as np\n",
    "import xarray as xr\n",
    "\n",
    "from dask.distributed import Client\n",
    "\n",
    "from cgc.coclustering import Coclustering\n",
    "from cgc.kmeans import Kmeans\n",
    "from cgc.utils import mem_estimate_coclustering_numpy, calculate_cocluster_averages\n",
    "\n",
    "print(f'CGC version: {cgc.__version__}')"
   ]
  },
  {
   "cell_type": "markdown",
   "metadata": {},
   "source": [
    "CGC makes use of `logging`, set the desired verbosity via:"
   ]
  },
  {
   "cell_type": "code",
   "execution_count": 2,
   "metadata": {},
   "outputs": [],
   "source": [
    "logging.basicConfig(level=logging.INFO)"
   ]
  },
  {
   "cell_type": "markdown",
   "metadata": {},
   "source": [
    "## Reading the data\n",
    "\n",
    "We use [the Xarray package](http://xarray.pydata.org) to read the data. We open the GeoTIFF files and concatenate them along the time dimension to create a single three-dimensional array (a `DataArray`) that represents the spring index as a function of space (x and y) and time:"
   ]
  },
  {
   "cell_type": "code",
   "execution_count": 3,
   "metadata": {},
   "outputs": [],
   "source": [
    "years = range(2001, 2016)\n",
    "spring_index = [xr.open_rasterio(f'../data/{year}.tif') for year in years]\n",
    "spring_index = xr.concat(spring_index, dim='time')\n",
    "spring_index = spring_index.squeeze('band', drop=True)  # drop band dimension\n",
    "\n",
    "# set year as time coordinate\n",
    "spring_index = spring_index.assign_coords(year=('time', years))"
   ]
  },
  {
   "cell_type": "markdown",
   "metadata": {},
   "source": [
    "We manipulate the array spatial dimensions creating a combined (x, y) dimension. We also drop all 'pixels' that are null-valued for any of the years considered:"
   ]
  },
  {
   "cell_type": "code",
   "execution_count": 4,
   "metadata": {},
   "outputs": [
    {
     "name": "stdout",
     "output_type": "stream",
     "text": [
      "<xarray.DataArray (time: 15, space: 490000)>\n",
      "array([[130., 130., 130., ...,  60.,  60.,  60.],\n",
      "       [120., 120., 120., ...,  66.,  66.,  66.],\n",
      "       [137., 137., 137., ...,  62.,  62.,  62.],\n",
      "       ...,\n",
      "       [123., 123., 123., ...,  65.,  65.,  66.],\n",
      "       [118., 118., 118., ...,  53.,  53.,  53.],\n",
      "       [109., 110., 110., ...,  57.,  56.,  56.]], dtype=float32)\n",
      "Coordinates:\n",
      "    year      (time) int64 2001 2002 2003 2004 2005 ... 2011 2012 2013 2014 2015\n",
      "  * space     (space) MultiIndex\n",
      "  - x         (space) float64 -126.3 -126.3 -126.3 ... -120.0 -120.0 -120.0\n",
      "  - y         (space) float64 49.25 49.24 49.23 49.22 ... 43.0 42.99 42.98 42.97\n",
      "    location  (space) int64 0 1 2 3 4 5 ... 489995 489996 489997 489998 489999\n",
      "Dimensions without coordinates: time\n",
      "Attributes:\n",
      "    transform:      (0.008983152841195215, 0.0, -126.30312894720473, 0.0, -0....\n",
      "    crs:            +init=epsg:4326\n",
      "    res:            (0.008983152841195215, 0.008983152841195215)\n",
      "    is_tiled:       0\n",
      "    nodatavals:     (nan,)\n",
      "    scales:         (1.0,)\n",
      "    offsets:        (0.0,)\n",
      "    AREA_OR_POINT:  Area\n"
     ]
    }
   ],
   "source": [
    "spring_index = spring_index.stack(space=['x', 'y'])\n",
    "location = np.arange(spring_index.space.size) # create a combined (x,y) index\n",
    "spring_index = spring_index.assign_coords(location=('space', location))\n",
    "\n",
    "# drop pixels that are null-valued for any of the time indices\n",
    "spring_index = spring_index.dropna('space', how='any')  \n",
    "print(spring_index)"
   ]
  },
  {
   "cell_type": "code",
   "execution_count": 5,
   "metadata": {},
   "outputs": [
    {
     "name": "stdout",
     "output_type": "stream",
     "text": [
      "28.03802490234375 MB\n"
     ]
    }
   ],
   "source": [
    "# size of the matrix\n",
    "print(\"{} MB\".format(spring_index.nbytes/2**20))"
   ]
  },
  {
   "cell_type": "markdown",
   "metadata": {},
   "source": [
    "## Co-clustering"
   ]
  },
  {
   "cell_type": "markdown",
   "metadata": {},
   "source": [
    "### Overview\n",
    "\n",
    "Once we have read the data set as a 2D array, we can run the co-clustering analysis. Starting from a random co-cluster assignment, the algorithm implemented in CGC iteratively updates the co-clusters until the loss function that corresponds to the information loss in each cluster does not significantly change in two consecutive iterations (a threshold is provided). The solution reached by the algorithm does not necessarily represent the global minimum of the loss function (it might be a local minimum). Thus, multiple differently-initialized runs need to be performed in order to sample the cluster space, and the cluster assignment with the lowest loss-function value selected as best candidate solution. Note that these runs represent embarrassingly parallel tasks, and can then be efficiently executed in parallel. For more information about the algorithm, have a look at CGC's co-clustering [documentation](https://cgc.readthedocs.io/en/latest/user_manual.html#co-clustering)."
   ]
  },
  {
   "cell_type": "markdown",
   "metadata": {},
   "source": [
    "In order to run the co-clustering analysis for the spring index data set that we have loaded in the previous section, we choose an initial number of spatial and temporal clusters and set the values of few other parameters:"
   ]
  },
  {
   "cell_type": "code",
   "execution_count": 6,
   "metadata": {},
   "outputs": [],
   "source": [
    "num_time_clusters = 3\n",
    "num_space_clusters = 5\n",
    "\n",
    "max_iterations = 20  # maximum number of iterations\n",
    "conv_threshold = 0.1  # convergence threshold \n",
    "nruns = 3  # number of differently-initialized runs"
   ]
  },
  {
   "cell_type": "markdown",
   "metadata": {},
   "source": [
    "**NOTE**: the number of clusters have been selected in order to keep the memory requirement and the time of the execution suitable to run this tutorial on [mybinder.org](https://mybinder.org). If the infrastructure where you are running this notebook has more memory and computing power available, feel free to increase these values."
   ]
  },
  {
   "cell_type": "markdown",
   "metadata": {},
   "source": [
    "We then instantiate a `Coclustering` object:"
   ]
  },
  {
   "cell_type": "code",
   "execution_count": 7,
   "metadata": {},
   "outputs": [],
   "source": [
    "cc = Coclustering(\n",
    "    spring_index.data,  # data set (must be a 2D array)\n",
    "    num_time_clusters,  # number of clusters in the first dimension of the data set (rows)\n",
    "    num_space_clusters,  # number of clusters in the second dimension of the data set (columns)\n",
    "    max_iterations=max_iterations,  \n",
    "    conv_threshold=conv_threshold, \n",
    "    nruns=nruns\n",
    ")"
   ]
  },
  {
   "cell_type": "markdown",
   "metadata": {},
   "source": [
    "We are now ready to run the analysis. CGC offers multiple implementations of the same co-clustering algorithm, as described in the following subsections. Ultimately, the most suitable implementation for a given problem is determined by the size of the data set of interest and by the infrastructure that is available for the analysis."
   ]
  },
  {
   "cell_type": "markdown",
   "metadata": {},
   "source": [
    "### Local (Numpy-based) implementation"
   ]
  },
  {
   "cell_type": "markdown",
   "metadata": {},
   "source": [
    "A first implementation is based on [Numpy](https://numpy.org) and [threading](https://docs.python.org/3/library/threading.html). It is suitable to run the co-clustering analysis locally, with differently-initialized co-clustering runs being executed in parallel as multiple threads. The `nthreads` argument sets the number of runs that are simultaneously executed: "
   ]
  },
  {
   "cell_type": "code",
   "execution_count": 8,
   "metadata": {},
   "outputs": [
    {
     "name": "stderr",
     "output_type": "stream",
     "text": [
      "INFO:cgc.coclustering:Retrieving run 0\n",
      "INFO:cgc.coclustering:Error = -2192734720.0\n",
      "INFO:cgc.coclustering:Run converged in 17 iterations\n",
      "INFO:cgc.coclustering:Retrieving run 1\n",
      "INFO:cgc.coclustering:Error = -2193852672.0\n",
      "WARNING:cgc.coclustering:Run not converged in 20 iterations\n",
      "INFO:cgc.coclustering:Retrieving run 2\n",
      "INFO:cgc.coclustering:Error = -2192735488.0\n",
      "INFO:cgc.coclustering:Run converged in 19 iterations\n"
     ]
    }
   ],
   "source": [
    "results = cc.run_with_threads(nthreads=1)"
   ]
  },
  {
   "cell_type": "markdown",
   "metadata": {},
   "source": [
    "If a multi-core processor is available, speedup is expected by setting `nthreads` to the number of available cores. Note, however, that the memory requirement also increases for increasing `nthreads`. "
   ]
  },
  {
   "cell_type": "markdown",
   "metadata": {},
   "source": [
    "The output might indicate that convergence is not achieved within the specified number of iterations. A low value of `max_iterations` is on purpose set here to limit the execution time of the tutorial - increasing this value to 100 should lead to converged solutions (within the threshold provided)."
   ]
  },
  {
   "cell_type": "markdown",
   "metadata": {},
   "source": [
    "Calling the method again will perform a new set of co-clustering runs, improving the sampling of the cluster space:"
   ]
  },
  {
   "cell_type": "code",
   "execution_count": 9,
   "metadata": {},
   "outputs": [
    {
     "name": "stderr",
     "output_type": "stream",
     "text": [
      "INFO:cgc.coclustering:Retrieving run 3\n",
      "INFO:cgc.coclustering:Error = -2193852672.0\n",
      "INFO:cgc.coclustering:Run converged in 16 iterations\n",
      "INFO:cgc.coclustering:Retrieving run 4\n",
      "INFO:cgc.coclustering:Error = -2193846272.0\n",
      "WARNING:cgc.coclustering:Run not converged in 20 iterations\n",
      "INFO:cgc.coclustering:Retrieving run 5\n",
      "INFO:cgc.coclustering:Error = -2193849088.0\n",
      "WARNING:cgc.coclustering:Run not converged in 20 iterations\n"
     ]
    }
   ],
   "source": [
    "results = cc.run_with_threads(nthreads=1)"
   ]
  },
  {
   "cell_type": "markdown",
   "metadata": {},
   "source": [
    "### Reducing the memory footprint"
   ]
  },
  {
   "cell_type": "markdown",
   "metadata": {},
   "source": [
    "The implementation illustrated in the previous section internally exploits vectorized operations between work arrays, whose size increases with both the data set size and the number of row and column clusters. If the data set is relatively large, the memory requirement becomes a bottle neck in the choice of the number of clusters in the analysis. "
   ]
  },
  {
   "cell_type": "markdown",
   "metadata": {},
   "source": [
    "One can estimate the peak memory of a single co-clustering run with the following utility function: "
   ]
  },
  {
   "cell_type": "code",
   "execution_count": 10,
   "metadata": {},
   "outputs": [
    {
     "name": "stderr",
     "output_type": "stream",
     "text": [
      "INFO:cgc.utils:Estimated memory usage: 95.80MB, peak number: 2\n"
     ]
    },
    {
     "data": {
      "text/plain": [
       "(95.7972002029419, 'MB', 2)"
      ]
     },
     "execution_count": 10,
     "metadata": {},
     "output_type": "execute_result"
    }
   ],
   "source": [
    "n_rows, n_cols = spring_index.shape\n",
    "mem_estimate_coclustering_numpy(\n",
    "    n_rows=n_rows, \n",
    "    n_cols=n_cols,\n",
    "    nclusters_row=num_time_clusters,\n",
    "    nclusters_col=num_space_clusters,\n",
    ")"
   ]
  },
  {
   "cell_type": "markdown",
   "metadata": {},
   "source": [
    "The estimated peak memory required for the execution of the co-clustering analysis of a data set that is few GB large with 10-1000 clusters in each dimension can easily exceed 50 GB. If this amount of memory is not available on a single machine, CGC offers two alternatives. On the one hand, one can make use of a different implementation that significantly reduces the memory footprint of the algorithm, activated via the `low_memory` argument:"
   ]
  },
  {
   "cell_type": "code",
   "execution_count": 11,
   "metadata": {},
   "outputs": [
    {
     "name": "stderr",
     "output_type": "stream",
     "text": [
      "INFO:cgc.coclustering:Retrieving run 6\n",
      "INFO:cgc.coclustering:Error = -2193985676.721682\n",
      "WARNING:cgc.coclustering:Run not converged in 20 iterations\n",
      "INFO:cgc.coclustering:Retrieving run 7\n",
      "INFO:cgc.coclustering:Error = -2193984277.281031\n",
      "WARNING:cgc.coclustering:Run not converged in 20 iterations\n",
      "INFO:cgc.coclustering:Retrieving run 8\n",
      "INFO:cgc.coclustering:Error = -2193986368.158654\n",
      "INFO:cgc.coclustering:Run converged in 18 iterations\n"
     ]
    }
   ],
   "source": [
    "results = cc.run_with_threads(nthreads=1, low_memory=True)"
   ]
  },
  {
   "cell_type": "markdown",
   "metadata": {},
   "source": [
    "Check out the [memory_profiler](https://github.com/pythonprofilers/memory_profiler) package, in particular the IPython `%memit` magic that this package implements, to compare the difference in memory usage for the two implementations (install with: `pip install memory_profiler`, load the magic in the notebook with: `%load_ext memory_profiler`). Look at the \"increment\" field, but note that the difference between the two implementations becomes significant only for large datasets and/or number of clusters (it is difficult to appreciate it with the default data set/parameters of this notebook)."
   ]
  },
  {
   "cell_type": "markdown",
   "metadata": {},
   "source": [
    "The reduced memory requirement comes at the cost of performance, since some of the vectorized operations are replaced with (slower) for loops. The performance loss of this low-memory algorithm can be significantly mitigated by activating [Numba](https://numba.pydata.org)’s just-in-time (JIT) compilation for these loops' vectorization, which is employed in CGC when setting the optional argument `numba_jit=True`. Note that the larger the number of clusters, the larger the speedup obtained with Numba JIT compilation."
   ]
  },
  {
   "cell_type": "markdown",
   "metadata": {},
   "source": [
    "An alternative approach to tackle co-clustering analyses that do not fit the memory of a single machine, is to run them on a cluster of compute nodes. This type of analyses can be carried out with the Dask-based co-clustering implementation that is described in the following section."
   ]
  },
  {
   "cell_type": "markdown",
   "metadata": {},
   "source": [
    "### Co-clustering with Dask"
   ]
  },
  {
   "cell_type": "markdown",
   "metadata": {},
   "source": [
    "CGC also includes a co-clustering implementation that makes use of [Dask](https://dask.org) and it is thus suitable to run the algorithm on distributed systems (e.g. on a cluster of compute nodes). In the implementation illustrated here, Dask arrays are employed to process the data in chunks that are distributed across the nodes of a compute cluster."
   ]
  },
  {
   "cell_type": "markdown",
   "metadata": {},
   "source": [
    "Dask arrays can be employed as the underlying data structure in a `DataArray`. Data can be loaded directly in the memory of the (distributed) cluster by specifying the `chunks` argument in  `xr.open_rasterio()`. This is important for data sets that do not fit the memory of a single node of the cluster. Here, we simply chunk the data set that we have already loaded via the `chunk` method of `DataArray`'s:"
   ]
  },
  {
   "cell_type": "code",
   "execution_count": 12,
   "metadata": {},
   "outputs": [
    {
     "name": "stdout",
     "output_type": "stream",
     "text": [
      "dask.array<xarray-<this-array>, shape=(15, 490000), dtype=float32, chunksize=(15, 122500), chunktype=numpy.ndarray>\n"
     ]
    }
   ],
   "source": [
    "spring_index_da = spring_index.chunk((15, 122500))\n",
    "print(spring_index_da.data)"
   ]
  },
  {
   "cell_type": "code",
   "execution_count": 13,
   "metadata": {},
   "outputs": [],
   "source": [
    "cc_da = Coclustering(\n",
    "    spring_index_da.data,\n",
    "    num_time_clusters,\n",
    "    num_space_clusters,  \n",
    "    max_iterations=max_iterations,  \n",
    "    conv_threshold=conv_threshold, \n",
    "    nruns=nruns\n",
    ")"
   ]
  },
  {
   "cell_type": "markdown",
   "metadata": {},
   "source": [
    "In order to exploit the distributed computing capabilities of Dask, one would make use of a cluster running e.g. on a cloud infrastructure or on a HPC system. For the purpose of this tutorial, however, we make use of a local Dask cluster, i.e. a cluster made of local processes/threads. This is the default cluster that is created when a `Client` object is initialized without arguments:"
   ]
  },
  {
   "cell_type": "code",
   "execution_count": 14,
   "metadata": {},
   "outputs": [
    {
     "name": "stdout",
     "output_type": "stream",
     "text": [
      "<Client: 'tcp://127.0.0.1:61200' processes=4 threads=8, memory=16.00 GiB>\n"
     ]
    }
   ],
   "source": [
    "client = Client()\n",
    "print(client)"
   ]
  },
  {
   "cell_type": "markdown",
   "metadata": {},
   "source": [
    "Note that the same framework would be employed if a distributed cluster were to be used (the cluster's scheduler address would need to be passed as an argument to `Client` in order to setup the connection). Further information on how to setup a Dask cluster can be found in the [Dask documentation](https://docs.dask.org). \n",
    "\n",
    "To start the co-clustering runs, we now pass the instance of the `Client` to the `run_with_dask` method of the `Coclustering` object:"
   ]
  },
  {
   "cell_type": "code",
   "execution_count": 15,
   "metadata": {},
   "outputs": [
    {
     "name": "stderr",
     "output_type": "stream",
     "text": [
      "INFO:cgc.coclustering:Run 0\n",
      "INFO:cgc.coclustering:Error = -2193985935.546817\n",
      "WARNING:cgc.coclustering:Run not converged in 20 iterations\n",
      "INFO:cgc.coclustering:Run 1\n",
      "INFO:cgc.coclustering:Error = -2193972844.860758\n",
      "WARNING:cgc.coclustering:Run not converged in 20 iterations\n",
      "INFO:cgc.coclustering:Run 2\n",
      "INFO:cgc.coclustering:Error = -2193972803.560032\n",
      "WARNING:cgc.coclustering:Run not converged in 20 iterations\n"
     ]
    }
   ],
   "source": [
    "results = cc_da.run_with_dask(client=client)"
   ]
  },
  {
   "cell_type": "markdown",
   "metadata": {},
   "source": [
    "Note that `run_with_dask` has also a `low_memory` argument, which, however, has a different effect from the same argument in the Numpy-based implementation: while for the latter `low_memory` allows to switch between two co-clustering algorithms with different memory footprints, for the Dask implementation `low_memory=False` implies that parallelization over runs is also activated (this feature is experimental and typically leads to very large memory usage - it should thus generally be avoided). "
   ]
  },
  {
   "cell_type": "markdown",
   "metadata": {},
   "source": [
    "When the runs are finished, we can close the connection to the cluster:"
   ]
  },
  {
   "cell_type": "code",
   "execution_count": 16,
   "metadata": {},
   "outputs": [],
   "source": [
    "client.close()"
   ]
  },
  {
   "cell_type": "markdown",
   "metadata": {},
   "source": [
    "### Inspecting the results "
   ]
  },
  {
   "cell_type": "markdown",
   "metadata": {},
   "source": [
    "The objects returned by the `run_with_threads` and `run_with_dask` methods contain all the co-clustering results, the most relevant being the row (temporal) and column (spatial) cluster assignments:"
   ]
  },
  {
   "cell_type": "code",
   "execution_count": 17,
   "metadata": {},
   "outputs": [
    {
     "name": "stdout",
     "output_type": "stream",
     "text": [
      "Row (time) clusters: [1 2 0 2 1 0 2 1 0 1 2 2 2 0 0]\n",
      "Column (space) clusters: [3 3 3 ... 0 0 0]\n"
     ]
    }
   ],
   "source": [
    "print(f\"Row (time) clusters: {results.row_clusters}\")\n",
    "print(f\"Column (space) clusters: {results.col_clusters}\")"
   ]
  },
  {
   "cell_type": "markdown",
   "metadata": {},
   "source": [
    "The integers contained in these arrays represent the cluster labels for the two dimensions. They allow to identify the co-cluster to which each element belongs: the (i, j) element of the spring index matrix belongs to the co-cluster (m, n), where m and n are the i-th element of `results.row_clusters` and j-th element of `results.col_clusters`, respectively. "
   ]
  },
  {
   "cell_type": "markdown",
   "metadata": {},
   "source": [
    "These arrays can be used to reorder the original spring index data set on the basis of the similarity between its elements. We first create `DataArray`'s for the spatial and temporal clusters: "
   ]
  },
  {
   "cell_type": "code",
   "execution_count": 18,
   "metadata": {},
   "outputs": [],
   "source": [
    "time_clusters = xr.DataArray(results.row_clusters, dims='time', \n",
    "                             coords=spring_index.time.coords, \n",
    "                             name='time cluster')\n",
    "space_clusters = xr.DataArray(results.col_clusters, dims='space', \n",
    "                              coords=spring_index.space.coords, \n",
    "                              name='space cluster')"
   ]
  },
  {
   "cell_type": "markdown",
   "metadata": {},
   "source": [
    "We then include these as coordinates in the data set, and sort its dimensions on the basis of the cluster values:"
   ]
  },
  {
   "cell_type": "code",
   "execution_count": 19,
   "metadata": {},
   "outputs": [],
   "source": [
    "spring_index = spring_index.assign_coords(time_clusters=time_clusters, \n",
    "                                          space_clusters=space_clusters)\n",
    "spring_index_sorted = spring_index.sortby(['time_clusters', \n",
    "                                           'space_clusters'])"
   ]
  },
  {
   "cell_type": "markdown",
   "metadata": {},
   "source": [
    "Plotting the sorted data set as a function of space and time allows to visualize the co-clusters, which appear as 'blocks' in the matrix representation:"
   ]
  },
  {
   "cell_type": "code",
   "execution_count": 20,
   "metadata": {},
   "outputs": [
    {
     "data": {
      "image/png": "[encoded data removed]",
      "text/plain": [
       "<Figure size 432x288 with 2 Axes>"
      ]
     },
     "metadata": {
      "needs_background": "light"
     },
     "output_type": "display_data"
    }
   ],
   "source": [
    "ax = spring_index_sorted.plot.imshow(\n",
    "    x='location', y='year',\n",
    "    xticks=[], yticks=[],  # drop tick labels \n",
    "    robust=True  # set color bar range from 2nd to 98th percentile\n",
    ")\n",
    "cmap = ax.cmap  # will use the same color map in the next plots"
   ]
  },
  {
   "cell_type": "markdown",
   "metadata": {},
   "source": [
    "Each block of the matrix can be identified as a spatial region whose 'pixels' have similar spring index values over a sub set of years. "
   ]
  },
  {
   "cell_type": "markdown",
   "metadata": {},
   "source": [
    "The average spring index value of each co-cluster can be computed via a dedicated utility function in CGC, which return the cluster means in a 2D-array with dimensions `(n_row_clusters, n_col_clusters)`. We calculate the cluster averages and create a `DataArray` for further manipulation and plotting:"
   ]
  },
  {
   "cell_type": "code",
   "execution_count": 21,
   "metadata": {},
   "outputs": [
    {
     "data": {
      "text/plain": [
       "<matplotlib.image.AxesImage at 0x7f917758f490>"
      ]
     },
     "execution_count": 21,
     "metadata": {},
     "output_type": "execute_result"
    },
    {
     "data": {
      "image/png": "[encoded data removed]",
      "text/plain": [
       "<Figure size 432x288 with 2 Axes>"
      ]
     },
     "metadata": {
      "needs_background": "light"
     },
     "output_type": "display_data"
    }
   ],
   "source": [
    "# calculate the co-cluster averages\n",
    "means = calculate_cocluster_averages(\n",
    "    spring_index.data, \n",
    "    time_clusters, \n",
    "    space_clusters, \n",
    "    num_time_clusters, \n",
    "    num_space_clusters\n",
    ")\n",
    "means = xr.DataArray(means, dims=('time_clusters', 'space_clusters'))\n",
    "\n",
    "# drop co-clusters that are not populated \n",
    "means = means.dropna('time_clusters', how='all')\n",
    "means = means.dropna('space_clusters', how='all')\n",
    "\n",
    "# use first row- and column-clusters to sort \n",
    "space_cluster_order = means.isel(time_clusters=0)\n",
    "time_cluster_order = means.isel(space_clusters=0)\n",
    "means_sorted = means.sortby(\n",
    "    [space_cluster_order, time_cluster_order]\n",
    ")\n",
    "\n",
    "# now plot the sorted co-cluster means \n",
    "means_sorted.plot.imshow(\n",
    "    xticks=[], yticks=[],\n",
    "    cmap=cmap  # use same colorbar\n",
    ")"
   ]
  },
  {
   "cell_type": "markdown",
   "metadata": {},
   "source": [
    "We can now visualize the temporal clusters to which each year belongs, and make a histogram of the number of years in each cluster:"
   ]
  },
  {
   "cell_type": "code",
   "execution_count": 22,
   "metadata": {},
   "outputs": [
    {
     "data": {
      "text/plain": [
       "(array([5., 4., 6.]),\n",
       " array([0.        , 0.66666667, 1.33333333, 2.        ]),\n",
       " <BarContainer object of 3 artists>)"
      ]
     },
     "execution_count": 22,
     "metadata": {},
     "output_type": "execute_result"
    },
    {
     "data": {
      "image/png": "[encoded data removed]",
      "text/plain": [
       "<Figure size 432x288 with 2 Axes>"
      ]
     },
     "metadata": {
      "needs_background": "light"
     },
     "output_type": "display_data"
    }
   ],
   "source": [
    "fig, ax = plt.subplots(1, 2)\n",
    "\n",
    "# line plot\n",
    "time_clusters.plot(ax=ax[0], x='year', marker='o')\n",
    "ax[0].set_yticks(range(num_time_clusters))\n",
    "\n",
    "# temporal cluster histogram\n",
    "time_clusters.plot.hist(ax=ax[1], bins=num_time_clusters)"
   ]
  },
  {
   "cell_type": "markdown",
   "metadata": {},
   "source": [
    "Spatial clusters can also be visualized after 'unstacking' the combined spatial index that we have initially created, thus reverting to the original (x, y) coordinates:"
   ]
  },
  {
   "cell_type": "code",
   "execution_count": 23,
   "metadata": {},
   "outputs": [
    {
     "data": {
      "text/plain": [
       "<matplotlib.image.AxesImage at 0x7f917bb40c10>"
      ]
     },
     "execution_count": 23,
     "metadata": {},
     "output_type": "execute_result"
    },
    {
     "data": {
      "image/png": "[encoded data removed]",
      "text/plain": [
       "<Figure size 432x288 with 2 Axes>"
      ]
     },
     "metadata": {
      "needs_background": "light"
     },
     "output_type": "display_data"
    }
   ],
   "source": [
    "space_clusters_xy = space_clusters.unstack('space')\n",
    "space_clusters_xy.plot.imshow(\n",
    "    x='x', y='y', levels=range(num_space_clusters+1)\n",
    ")"
   ]
  },
  {
   "cell_type": "markdown",
   "metadata": {},
   "source": [
    "The computed co-cluster means and the spatial clusters can be employed to plot the average spring-index value for each of the temporal clusters: "
   ]
  },
  {
   "cell_type": "code",
   "execution_count": 24,
   "metadata": {},
   "outputs": [
    {
     "data": {
      "text/plain": [
       "<xarray.plot.facetgrid.FacetGrid at 0x7f91774d49d0>"
      ]
     },
     "execution_count": 24,
     "metadata": {},
     "output_type": "execute_result"
    },
    {
     "data": {
      "image/png": "[encoded data removed]",
      "text/plain": [
       "<Figure size 720x216 with 4 Axes>"
      ]
     },
     "metadata": {
      "needs_background": "light"
     },
     "output_type": "display_data"
    }
   ],
   "source": [
    "space_means = means.sel(space_clusters=space_clusters)\n",
    "space_means = space_means.unstack('space')\n",
    "space_means.plot.imshow(\n",
    "    x='x', y='y', col='time_clusters',\n",
    "    cmap=cmap  # use same colorbar\n",
    ")"
   ]
  },
  {
   "cell_type": "markdown",
   "metadata": {},
   "source": [
    "## K-means refinement"
   ]
  },
  {
   "cell_type": "markdown",
   "metadata": {},
   "source": [
    "### Overview"
   ]
  },
  {
   "cell_type": "markdown",
   "metadata": {},
   "source": [
    "We have seen how co-clustering allows one to reorder the rows and columns of a two-dimensional data set such that its elements are sorted in 'blocks'. In this picture, the co-clusters can be identified as the squares in the checkerboard structure. An optional subsequent step consists in performing a standard clustering analysis, such as k-means, to identify similarity patterns across the co-clusters, in such a way that similar squares in the checkerboard can be joined in the same cluster. For the data set considered here, performing such refinement step can be seen as a way to identify sub-regions with similar spring index values across different year spans."
   ]
  },
  {
   "cell_type": "markdown",
   "metadata": {},
   "source": [
    "CGC implements this refinement step using [k-means](https://en.wikipedia.org/wiki/K-means_clustering).\n",
    "The following features are computed for each of the co-clusters and used to perform the refinement clustering analysis:\n",
    "\n",
    "* mean value;\n",
    "\n",
    "* standard deviation;\n",
    "\n",
    "* minimum value;\n",
    "\n",
    "* maximum value;\n",
    "\n",
    "* 5% quantile;\n",
    "\n",
    "* 95% quantile."
   ]
  },
  {
   "cell_type": "markdown",
   "metadata": {},
   "source": [
    "The refinement clustering analysis is run for multiple k's, and the optimal value selected as the smallest value for which the sum or centroid variances is below a given threshold. In addition to the information on the previous co-clustering analysis, one needs to specify the range of k values for the search of optimal values when initializing the `Kmeans` object:"
   ]
  },
  {
   "cell_type": "code",
   "execution_count": 25,
   "metadata": {},
   "outputs": [],
   "source": [
    "km = Kmeans(\n",
    "    spring_index.data,\n",
    "    row_clusters=results.row_clusters,\n",
    "    col_clusters=results.col_clusters,\n",
    "    n_row_clusters=num_time_clusters,\n",
    "    n_col_clusters=num_space_clusters,\n",
    "    k_range=range(1, 11), \n",
    "    kmean_max_iter=100,  # max k-means iteration for each k value\n",
    "    var_thres=1.  # threshold for the sum of centroid variances\n",
    ")"
   ]
  },
  {
   "cell_type": "markdown",
   "metadata": {},
   "source": [
    "The refinement analysis is then run as:"
   ]
  },
  {
   "cell_type": "code",
   "execution_count": 26,
   "metadata": {},
   "outputs": [
    {
     "name": "stderr",
     "output_type": "stream",
     "text": [
      "/Users/fnattino/Programs/cgc/cgc/kmeans.py:181: RuntimeWarning: invalid value encountered in true_divide\n",
      "  (maximum - minimum)\n"
     ]
    }
   ],
   "source": [
    "results_kmeans = km.compute()"
   ]
  },
  {
   "cell_type": "markdown",
   "metadata": {},
   "source": [
    "Visualizing the variance trend as a function of k allows to verify whether the choice of the threshold is properly set (the optimal k value should be approximately equal to [the \"elbow\" of the curve](https://en.wikipedia.org/wiki/Elbow_method_(clustering))):"
   ]
  },
  {
   "cell_type": "code",
   "execution_count": 27,
   "metadata": {},
   "outputs": [
    {
     "data": {
      "image/png": "[encoded data removed]",
      "text/plain": [
       "<Figure size 432x288 with 1 Axes>"
      ]
     },
     "metadata": {
      "needs_background": "light"
     },
     "output_type": "display_data"
    }
   ],
   "source": [
    "km.plot_elbow_curve()"
   ]
  },
  {
   "cell_type": "markdown",
   "metadata": {},
   "source": [
    "### Results"
   ]
  },
  {
   "cell_type": "markdown",
   "metadata": {},
   "source": [
    "The object returned by `Kmeans.compute` contains all results, most importantly the optimal `k` value and the centroids of the co-clusters' means:"
   ]
  },
  {
   "cell_type": "code",
   "execution_count": 28,
   "metadata": {},
   "outputs": [
    {
     "name": "stdout",
     "output_type": "stream",
     "text": [
      "Optimal k value: 4\n",
      "Centroids of co-clusters' means: [[ 59.99321047  59.99321047  87.72347768 126.96718852  87.72347768]\n",
      " [ 59.99321047  59.99321047  99.57197825 126.96718852  87.72347768]\n",
      " [ 59.99321047  59.99321047  99.57197825 126.96718852  99.57197825]]\n"
     ]
    }
   ],
   "source": [
    "print(f\"Optimal k value: {results_kmeans.k_value}\")\n",
    "print(f\"Centroids of co-clusters' means: {results_kmeans.cl_mean_centroids}\")"
   ]
  },
  {
   "cell_type": "markdown",
   "metadata": {},
   "source": [
    "The centroids can be employed to plot the refined cluster averages of the spring index:"
   ]
  },
  {
   "cell_type": "code",
   "execution_count": 29,
   "metadata": {},
   "outputs": [
    {
     "data": {
      "text/plain": [
       "<matplotlib.image.AxesImage at 0x7f9176135a10>"
      ]
     },
     "execution_count": 29,
     "metadata": {},
     "output_type": "execute_result"
    },
    {
     "data": {
      "image/png": "[encoded data removed]",
      "text/plain": [
       "<Figure size 432x288 with 2 Axes>"
      ]
     },
     "metadata": {
      "needs_background": "light"
     },
     "output_type": "display_data"
    }
   ],
   "source": [
    "means_kmeans = xr.DataArray(\n",
    "    results_kmeans.cl_mean_centroids, \n",
    "    dims=('time_clusters', 'space_clusters')\n",
    ")\n",
    "\n",
    "# drop co-clusters that are not populated  \n",
    "means_kmeans = means_kmeans.dropna('time_clusters', how='all')\n",
    "means_kmeans = means_kmeans.dropna('space_clusters', how='all')\n",
    "\n",
    "# reorder the cluster averages, using the same ordering as for the co-clusters\n",
    "means_kmeans_sorted = means_kmeans.sortby([\n",
    "    space_cluster_order, time_cluster_order\n",
    "])\n",
    "\n",
    "# finally plot the cluster averages after refinement \n",
    "means_kmeans_sorted.plot.imshow(\n",
    "    xticks=[], yticks=[],\n",
    "    cmap=cmap\n",
    ")"
   ]
  },
  {
   "cell_type": "code",
   "execution_count": 30,
   "metadata": {},
   "outputs": [
    {
     "data": {
      "text/plain": [
       "<xarray.plot.facetgrid.FacetGrid at 0x7f917bbf96d0>"
      ]
     },
     "execution_count": 30,
     "metadata": {},
     "output_type": "execute_result"
    },
    {
     "data": {
      "image/png": "[encoded data removed]",
      "text/plain": [
       "<Figure size 720x216 with 4 Axes>"
      ]
     },
     "metadata": {
      "needs_background": "light"
     },
     "output_type": "display_data"
    }
   ],
   "source": [
    "space_means = means_kmeans.sel(space_clusters=space_clusters)\n",
    "space_means = space_means.unstack('space')\n",
    "space_means.plot.imshow(\n",
    "    x='x', y='y', col='time_clusters',\n",
    "    cmap=cmap\n",
    ")"
   ]
  }
 ],
 "metadata": {
  "kernelspec": {
   "display_name": "Python 3",
   "language": "python",
   "name": "python3"
  },
  "language_info": {
   "codemirror_mode": {
    "name": "ipython",
    "version": 3
   },
   "file_extension": ".py",
   "mimetype": "text/x-python",
   "name": "python",
   "nbconvert_exporter": "python",
   "pygments_lexer": "ipython3",
   "version": "3.7.9"
  }
 },
 "nbformat": 4,
 "nbformat_minor": 4
}
